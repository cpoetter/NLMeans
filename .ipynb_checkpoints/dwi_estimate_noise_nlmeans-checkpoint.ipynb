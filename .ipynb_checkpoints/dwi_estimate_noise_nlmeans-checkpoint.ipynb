{
 "cells": [
  {
   "cell_type": "markdown",
   "metadata": {},
   "source": [
    "# Computing SNR for diffusion-weighted imaging\n",
    "The following examples illustrate some basic SNR calculations on diffusion-weighted images (DWIs). The basic procedure is:\n",
    "\n",
    "1. Correct for motion and for eddy current distortion, if necessary (i.e., if using single spin echo DWI; we use FSL's 'eddy')\n",
    "\n",
    "2. For all the b=0 images, compute the standard deviation of each voxel. This will generate a noise map, but the map will be both biased and unreliable, due to the fact that there are only a few values used to estimate the stdev."
   ]
  },
  {
   "cell_type": "code",
   "execution_count": 28,
   "metadata": {
    "collapsed": false
   },
   "outputs": [],
   "source": [
    "import numpy as np\n",
    "import nibabel as nib\n",
    "from dipy.io import read_bvals_bvecs\n",
    "from dipy.core.gradients import gradient_table\n",
    "import matplotlib.pyplot as plt\n",
    "%matplotlib inline\n",
    "from scipy.special import gamma\n",
    "from nlmeans_std import nlmeans_std\n",
    "from dipy.denoise.noise_estimate import estimate_sigma\n",
    "import ip_utils\n",
    "from scipy.ndimage.filters import gaussian_filter"
   ]
  },
  {
   "cell_type": "code",
   "execution_count": 29,
   "metadata": {
    "collapsed": true
   },
   "outputs": [],
   "source": [
    "# Which slices to show in the 3-axis view:\n",
    "sl = [35,47,36]\n",
    "# Smoothing to be applied to the snr maps\n",
    "fwhm = 3\n",
    "sigma = fwhm / 2.35482"
   ]
  },
  {
   "cell_type": "code",
   "execution_count": 30,
   "metadata": {
    "collapsed": true
   },
   "outputs": [],
   "source": [
    "def smooth_data(data, bzeros_mask, mask):\n",
    "    noise = data[..., bzeros_mask].std(axis=3, ddof=1)\n",
    "    mean_noise = np.mean(data[..., bzeros_mask], axis=3)\n",
    "    noise_sm = nlmeans_std(noise, estimate_sigma(noise, N=0), mean=mean_noise, patch_radius=0.5, block_radius=1.0, num_threads=None, rician=False)\n",
    "    #noise_sm = noise_sm/snr_bias_correction(number_bzeros)\n",
    "    \n",
    "    return noise_sm"
   ]
  },
  {
   "cell_type": "code",
   "execution_count": 31,
   "metadata": {
    "collapsed": false
   },
   "outputs": [],
   "source": [
    "def load_data(nifti_basename):\n",
    "    ni = nib.load(nifti_basename+'.nii.gz')\n",
    "    affine = ni.get_affine()\n",
    "    d = ni.get_data()\n",
    "    bvals = np.loadtxt(nifti_basename+'.bval')\n",
    "    b0 = bvals<10\n",
    "    dwi_sig = d[...,b0==0].mean(axis=3)\n",
    "    return d, b0, affine, dwi_sig"
   ]
  },
  {
   "cell_type": "code",
   "execution_count": null,
   "metadata": {
    "collapsed": false
   },
   "outputs": [],
   "source": [
    "def show_snr_maps(nifti_basename, mask, figsize=(14,4)):\n",
    "    # wm_thresh: Percentile for thresholding mean dwi maps to get a crude WM mask. Higher values give smaller masks.\n",
    "\n",
    "    data, b0s, affine, dwi_sig = load_data(nifti_basename)\n",
    "    noise_sm = smooth_data(data, b0s, mask)\n",
    "    \n",
    "    b0_sig = data[...,b0s].mean(axis=3)\n",
    "    b0_sig_sm = gaussian_filter(b0_sig, sigma)\n",
    "    b0_snr = b0_sig_sm / noise_sm\n",
    "    b0_mean_snr = b0_snr[mask==1].mean()\n",
    "    dwi_sig_sm = gaussian_filter(dwi_sig, sigma)\n",
    "    dwi_snr = dwi_sig_sm / noise_sm\n",
    "    dwi_mean_snr = dwi_snr[mask==1].mean()\n",
    "    \n",
    "    fig = plt.figure(figsize=figsize)\n",
    "    ip_utils.show_brain(nib.Nifti1Image(b0_sig,affine), sl=sl, fig=fig, cmap='gray')\n",
    "    plt.colorbar().set_label('Signal (arb.)', rotation=270, verticalalignment='center', fontsize=14)\n",
    "    plt.title('Mean b=0 image')\n",
    "\n",
    "    fig = plt.figure(figsize=figsize)\n",
    "    ip_utils.show_brain(nib.Nifti1Image(noise_sm,affine), sl=sl, fig=fig, cmap='hot')\n",
    "    plt.colorbar().set_label('Standard Deviation', rotation=270, verticalalignment='center', fontsize=14)\n",
    "    plt.title('Smoothed noise map')\n",
    "\n",
    "    fig = plt.figure(figsize=figsize)\n",
    "    ip_utils.show_brain(nib.Nifti1Image(b0_snr,affine), sl=sl, fig=fig, cmap='hot')\n",
    "    plt.colorbar().set_label('SNR', rotation=270, verticalalignment='center', fontsize=14)\n",
    "    plt.title('SNR for b=0 (mean SNR=%0.2f)' % b0_mean_snr)\n",
    "    \n",
    "    fig = plt.figure(figsize=figsize)\n",
    "    ip_utils.show_brain(nib.Nifti1Image(dwi_sig,affine), sl=sl, fig=fig, cmap='gray')\n",
    "    plt.colorbar().set_label('Signal (arb.)', rotation=270, verticalalignment='center', fontsize=14)\n",
    "    plt.title('Mean dwi image')\n",
    "\n",
    "    fig = plt.figure(figsize=figsize)\n",
    "    ip_utils.show_brain(nib.Nifti1Image(dwi_snr,affine), sl=sl, fig=fig, cmap='hot')\n",
    "    plt.colorbar().set_label('SNR', rotation=270, verticalalignment='center', fontsize=14)\n",
    "    plt.title('SNR for DWIs (mean SNR=%0.2f)' % dwi_mean_snr)\n",
    "    \n",
    "    return b0_mean_snr, dwi_mean_snr"
   ]
  },
  {
   "cell_type": "code",
   "execution_count": null,
   "metadata": {
    "collapsed": false
   },
   "outputs": [],
   "source": [
    "data, b0s, affine, dwi_sig = load_data('/scratch/upitt/s002_abs/b7k_dwi_ec')\n",
    "brain_mask = nib.load('/scratch/upitt/s002_abs/b7k_b0_corrected_mask.nii.gz').get_data()"
   ]
  },
  {
   "cell_type": "code",
   "execution_count": null,
   "metadata": {
    "collapsed": false
   },
   "outputs": [],
   "source": [
    "# Very crude WM mask\n",
    "mask = np.logical_and(dwi_sig>np.percentile(dwi_sig, 90), brain_mask).astype(int)\n",
    "\n",
    "fig = plt.figure(figsize=(14,4))\n",
    "d,clip = ip_utils.prep_brain(nib.Nifti1Image(mask,affine))\n",
    "ip_utils.plot_brain(ip_utils.three_axis(d, sl=sl), cmap='gray', clip=clip, fig=fig)\n",
    "plt.title('WM mask')"
   ]
  },
  {
   "cell_type": "markdown",
   "metadata": {},
   "source": [
    "# SNR maps for b=7k\n",
    "The b=7k b0 image has higher signal magnitude than b0 images from lower b-values, despite the longer TE. It also has better tissue contrast. Both of these are due to the fact that the longer TE of the high b-value scans necessitates a longer TR. For the Stanford protocol, the TRs are short enough that small changes can have a substantial effect on signal levels."
   ]
  },
  {
   "cell_type": "code",
   "execution_count": null,
   "metadata": {
    "collapsed": false
   },
   "outputs": [],
   "source": [
    "snr_mean = {}\n",
    "snr_mean[7] = show_snr_maps('/scratch/upitt/s002_abs/b7k_dwi_ec', mask)"
   ]
  },
  {
   "cell_type": "markdown",
   "metadata": {},
   "source": [
    "# SNR maps for b=5k"
   ]
  },
  {
   "cell_type": "code",
   "execution_count": null,
   "metadata": {
    "collapsed": false
   },
   "outputs": [],
   "source": [
    "snr_mean[5] = show_snr_maps('/scratch/upitt/s002_abs/b5k_dwi_ec', mask)"
   ]
  },
  {
   "cell_type": "markdown",
   "metadata": {},
   "source": [
    "# SNR maps for b=3k"
   ]
  },
  {
   "cell_type": "code",
   "execution_count": null,
   "metadata": {
    "collapsed": false
   },
   "outputs": [],
   "source": [
    "snr_mean[3] = show_snr_maps('/scratch/upitt/s002_abs/b3k_dwi_ec', mask)"
   ]
  },
  {
   "cell_type": "markdown",
   "metadata": {},
   "source": [
    "# SNR maps for b=1k"
   ]
  },
  {
   "cell_type": "code",
   "execution_count": null,
   "metadata": {
    "collapsed": false
   },
   "outputs": [],
   "source": [
    "snr_mean[1] = show_snr_maps('/scratch/upitt/s002_abs/b1k_dwi_ec', mask)"
   ]
  },
  {
   "cell_type": "code",
   "execution_count": null,
   "metadata": {
    "collapsed": false
   },
   "outputs": [],
   "source": [
    "for b in sorted(snr_mean):\n",
    "    print \"b%0.0fK: b0 SNR=%5.2f, dwi SNR=%5.2f\" % ((b,)+snr_mean[b])"
   ]
  },
  {
   "cell_type": "code",
   "execution_count": null,
   "metadata": {
    "collapsed": true
   },
   "outputs": [],
   "source": []
  }
 ],
 "metadata": {
  "kernelspec": {
   "display_name": "Python 2",
   "language": "python",
   "name": "python2"
  },
  "language_info": {
   "codemirror_mode": {
    "name": "ipython",
    "version": 2
   },
   "file_extension": ".py",
   "mimetype": "text/x-python",
   "name": "python",
   "nbconvert_exporter": "python",
   "pygments_lexer": "ipython2",
   "version": "2.7.6"
  }
 },
 "nbformat": 4,
 "nbformat_minor": 0
}
